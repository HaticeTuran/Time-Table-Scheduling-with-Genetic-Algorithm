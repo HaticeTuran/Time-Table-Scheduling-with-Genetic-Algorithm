{
  "nbformat": 4,
  "nbformat_minor": 0,
  "metadata": {
    "colab": {
      "provenance": [],
      "authorship_tag": "ABX9TyOedHxeX77Fkal6Pek23WRT",
      "include_colab_link": true
    },
    "kernelspec": {
      "name": "python3",
      "display_name": "Python 3"
    },
    "language_info": {
      "name": "python"
    }
  },
  "cells": [
    {
      "cell_type": "markdown",
      "metadata": {
        "id": "view-in-github",
        "colab_type": "text"
      },
      "source": [
        "<a href=\"https://colab.research.google.com/github/HaticeTuran/Time-Table-Scheduling-with-Genetic-Algorithm/blob/main/time_table_scheduling_genetic_algorithm.ipynb\" target=\"_parent\"><img src=\"https://colab.research.google.com/assets/colab-badge.svg\" alt=\"Open In Colab\"/></a>"
      ]
    },
    {
      "cell_type": "code",
      "execution_count": 110,
      "metadata": {
        "id": "xAgAq6onjOQX",
        "colab": {
          "base_uri": "https://localhost:8080/",
          "height": 35
        },
        "outputId": "8e68b2b3-6938-4ddd-e237-93a72d14c682"
      },
      "outputs": [
        {
          "output_type": "execute_result",
          "data": {
            "text/plain": [
              "'class MeetingTime(object):\\n  def __init__(self, id, time):\\n    self.id = id\\n    self.time = time\\n\\n  def __str__(self):\\n    return self.time'"
            ],
            "application/vnd.google.colaboratory.intrinsic+json": {
              "type": "string"
            }
          },
          "metadata": {},
          "execution_count": 110
        }
      ],
      "source": [
        "class Course(object):\n",
        "\n",
        "  def __init__(self, name, proffessor, grade, day, time, room):\n",
        "      self.name = name\n",
        "      self.instructor = proffessor\n",
        "      self.grade = grade\n",
        "      self.meeting_day = None\n",
        "      self.meeting_time = None\n",
        "      self.room = None\n",
        "     \n",
        "\n",
        "  def __str__(self):\n",
        "    return self.name +\" \"+  str(self.instructor)+\" \"+ self.meeting_day +\" \"+ self.meeting_time  +\" \"+ str(self.room) +\" \"+ str(self.grade)\n",
        "\n",
        "class Room(object):\n",
        "  def __init__(self, name, capacity):\n",
        "      self.name = name\n",
        "      self.capacity = capacity\n",
        "\n",
        "  def __str__(self):\n",
        "    return self.name\n",
        "\n",
        "\n",
        "class Professor(object):\n",
        "  def __init__(self, name, surname):\n",
        "      self.name = name\n",
        "      self.surname = surname\n",
        "\n",
        "  def __str__(self):\n",
        "    return self.name + \" \" + self.surname\n",
        "\n",
        "'''class MeetingTime(object):\n",
        "  def __init__(self, id, time):\n",
        "    self.id = id\n",
        "    self.time = time\n",
        "\n",
        "  def __str__(self):\n",
        "    return self.time'''\n"
      ]
    },
    {
      "cell_type": "code",
      "source": [
        "#Professors at TDU\n",
        "P1 = Professor(\"Canan\",\"Yıldız\")\n",
        "P2 = Professor(\"Faruk\", \"Bagcı\")\n",
        "P3 = Professor(\"Volkan\", \"Gezer\")\n",
        "P4 = Professor(\"Emel\", \"Maden\")\n",
        "P5 = Professor(\"Emre\", \"Isık\")\n",
        "P6 = Professor(\"Dilek\", \"Goksel\")\n",
        "P7 = Professor(\"Sanam\", \"Moghaddamnia\")\n",
        "P8 = Professor(\"Berkant\", \"Bostan\")\n",
        "P9 = Professor(\"Omer\", \"Karacan\")\n",
        "professors = [P1, P2, P3, P4, P5, P6, P7, P8, P9]\n",
        "\n",
        "#Courses at TDU\n",
        "C1 = Course(\"Inf101\", P3, 1, \"\", \"\", \"\")\n",
        "C2 = Course(\"Inf103\", P2, 1, \"\", \"\", \"\")\n",
        "C3 = Course(\"Inf107\", P2 ,1, \"\", \"\", \"\")\n",
        "\n",
        "C4 = Course(\"Inf201\", P1, 2,\"\", \"\", \"\")\n",
        "C5 = Course(\"Inf203\", P4, 2,\"\", \"\", \"\")\n",
        "C6 = Course(\"Inf205\", P1, 2,\"\", \"\", \"\")\n",
        "C7 = Course(\"Inf209\", P2, 2,\"\", \"\", \"\")\n",
        "\n",
        "C8 = Course(\"Inf303\", P9, 3,\"\", \"\", \"\")\n",
        "C9 = Course(\"Inf506\", P5, 3,\"\", \"\", \"\")\n",
        "C10 = Course(\"Inf701\", P1,3,\"\", \"\", \"\")\n",
        "C11 = Course(\"ETE101\", P7,3,\"\", \"\", \"\")\n",
        "\n",
        "C12 = Course(\"Inf523\", P6, 4,\"\", \"\", \"\")\n",
        "C13 = Course(\"Inf714\", P5, 4,\"\", \"\", \"\")\n",
        "C14 = Course(\"Inf905\", P8, 4,\"\", \"\", \"\")\n",
        "C15 = Course(\"INF517\", P1, 4,\"\", \"\", \"\")\n",
        "\n",
        "courses = [C1, C2, C3, C4, C5, C6, C7, C8, C9, C10, C11, C12, C13, C14, C15]\n",
        "\n",
        "#Rooms at TDU\n",
        "R1 = Room(\"R1\",100)\n",
        "R2 = Room(\"R2\",100)\n",
        "R3 = Room(\"R3\",100)\n",
        "R4 = Room(\"R4\",100)\n",
        "R5 = Room(\"R5\",100)\n",
        "rooms = [R1, R2, R3, R4, R5]\n",
        "\n",
        "# Meeetings Times\n",
        "hours = [\"08.00\",\"10.00\",\"12.00\",\"14.00\",\"16.00\"]\n",
        "days = [\"Mon\",\"Tue\",\"Wed\",\"Thu\",\"Fri\"]\n"
      ],
      "metadata": {
        "id": "p4aMBA9WHwgc"
      },
      "execution_count": 111,
      "outputs": []
    },
    {
      "cell_type": "code",
      "source": [
        "import random\n",
        "#Constants, experiment parameters\n",
        "NUM_COURSES = 15\n",
        "POPULATION_SIZE = 15\n",
        "MIXING_NUMBER = 2\n",
        "MUTATION_RATE = 0.05\n",
        "\n",
        "def generate_population():\n",
        "    population = []\n",
        "\n",
        "    for course in courses:\n",
        "        ind_day = random.randint(0, 4) \n",
        "        ind_hour = random.randint(0, 4) \n",
        "        ind_room = random.randint(0, 2)\n",
        "\n",
        "        course.meeting_day = days[ind_day] \n",
        "        course.meeting_time = hours[ind_hour]\n",
        "        course.room = rooms[ind_room]\n",
        "\n",
        "        population.append(course)\n",
        "    \n",
        "    return population\n",
        "\n",
        "population = generate_population()\n",
        "\n",
        "for i in population:\n",
        "  print(i)"
      ],
      "metadata": {
        "colab": {
          "base_uri": "https://localhost:8080/"
        },
        "id": "UYXil-9fHjEu",
        "outputId": "2e4c3483-534e-4394-c8ff-389ed9e3b26a"
      },
      "execution_count": 112,
      "outputs": [
        {
          "output_type": "stream",
          "name": "stdout",
          "text": [
            "Inf101 Volkan Gezer Tue 14.00 R1 1\n",
            "Inf103 Faruk Bagcı Tue 08.00 R2 1\n",
            "Inf107 Faruk Bagcı Tue 16.00 R3 1\n",
            "Inf201 Canan Yıldız Fri 08.00 R3 2\n",
            "Inf203 Emel Maden Fri 12.00 R1 2\n",
            "Inf205 Canan Yıldız Fri 08.00 R1 2\n",
            "Inf209 Faruk Bagcı Mon 14.00 R1 2\n",
            "Inf303 Omer Karacan Wed 12.00 R2 3\n",
            "Inf506 Emre Isık Tue 16.00 R3 3\n",
            "Inf701 Canan Yıldız Thu 14.00 R3 3\n",
            "ETE101 Sanam Moghaddamnia Mon 14.00 R2 3\n",
            "Inf523 Dilek Goksel Tue 16.00 R2 4\n",
            "Inf714 Emre Isık Mon 12.00 R2 4\n",
            "Inf905 Berkant Bostan Fri 08.00 R3 4\n",
            "INF517 Canan Yıldız Wed 10.00 R1 4\n"
          ]
        }
      ]
    },
    {
      "cell_type": "code",
      "source": [
        "#calculate fitness score \n",
        "\n",
        "def fitness_score(seq):\n",
        "    score = 0\n",
        "    \n",
        "    for course in seq:\n",
        "        #print(\"course: \" + str(course))\n",
        "        for other_course in seq:\n",
        "            #print(other_course)\n",
        "            #courses cannot pair with itself\n",
        "            if other_course == course:\n",
        "                continue\n",
        "            if course.meeting_time == other_course.meeting_time and course.meeting_day == other_course.meeting_day:\n",
        "               if  course.room == other_course.room:\n",
        "                  score = score +1\n",
        "               if course.instructor == other_course.instructor:\n",
        "                  score = score +1\n",
        "               if course.grade == other_course.grade:\n",
        "                  score = score +1\n",
        "\n",
        "    return score//2\n",
        "\n",
        "\n",
        "#print(fitness_score(population))"
      ],
      "metadata": {
        "id": "S9jMy7GBcSSO"
      },
      "execution_count": 113,
      "outputs": []
    },
    {
      "cell_type": "code",
      "source": [
        "import random as rnd\n",
        "\n",
        "#Mutation\n",
        "def mutate(seq):\n",
        "\n",
        "    for i in seq:\n",
        "        if rnd.random() < MUTATION_RATE:\n",
        "\n",
        "            arg = rnd.choice([\"meeting_time\",\"room\",\"meeting_day\"])\n",
        "            if arg == \"meeting_time\":\n",
        "              \n",
        "              ind_hour = random. randint(0, 4) \n",
        "              i.meeting_time = hours[ind_hour]\n",
        "            elif arg == \"room\":\n",
        "              ind_room = random. randint(0, 2)\n",
        "              i.room = rooms[ind_room]\n",
        "            else:\n",
        "              ind_day = random. randint(0, 4) \n",
        "              i.meeting_day = days[ind_day]\n",
        "            "
      ],
      "metadata": {
        "id": "-tJC6sqti7oA"
      },
      "execution_count": 114,
      "outputs": []
    },
    {
      "cell_type": "code",
      "source": [
        "#Selection\n",
        "def selection(population):\n",
        "  sum = 0\n",
        "  for i in population:\n",
        "      sum = sum + fitness_score(population)\n",
        "  \n",
        "  p = []\n",
        "  for i in population:\n",
        "      p.append(fitness_score(population)/sum)\n",
        "\n",
        "  for i in range(1, len(p)):\n",
        "      p[i] = p[i-1] + p[i]\n",
        "\n",
        "  rand = rnd.random()\n",
        "\n",
        "  index = 0\n",
        "\n",
        "  for i in range(0,len(p)):\n",
        "      if rand > p[i]:\n",
        "          continue\n",
        "      else:\n",
        "          index = i\n",
        "          break\n",
        "\n",
        "  return population[index]"
      ],
      "metadata": {
        "id": "r2ABW-Pm6BHO"
      },
      "execution_count": 115,
      "outputs": []
    },
    {
      "cell_type": "code",
      "source": [
        "#Crossover\n",
        "\n",
        "def crossover(p1, p2):\n",
        "\n",
        "    point1 = rnd.randint(0, 6-1)\n",
        "    point2 = rnd.randint(point1, 6)\n",
        "\n",
        "    off1 = (p1[:point1] + p2[point1:point2] + p1[point2:])\n",
        "    off2 = (p2[:point1] + p1[point1:point2] + p2[point2:])\n",
        "\n",
        "    return off1, off2"
      ],
      "metadata": {
        "id": "Rw_XnIOm6spN"
      },
      "execution_count": 116,
      "outputs": []
    },
    {
      "cell_type": "code",
      "source": [
        "def geneticAlgorithm():\n",
        "\n",
        "    offsprings = []\n",
        "\n",
        "    while len(offsprings) != len(population):\n",
        "        \n",
        "        parent1 = selection(population)\n",
        "        parent2 = selection(population)\n",
        "        \n",
        "        while parent1 == parent2:\n",
        "            parent2 = selection(population)\n",
        "\n",
        "        off1, off2 = crossover(parent1, parent2)\n",
        "\n",
        "        off1 = mutate(off1)\n",
        "        off2 = mutate(off2)\n",
        "\n",
        "        control1 = True\n",
        "        for i in offsprings:\n",
        "    \n",
        "            if (i.__str__() == off1.__str__()) or (i.__str__() == off2.__str__()):\n",
        "                control1 = False\n",
        "                break\n",
        "\n",
        "        control2 = True\n",
        "        for i in population:\n",
        "            if (i.__str__() == off1.__str__()) or (i.__str__() == off2.__str__()):\n",
        "                control2 = False\n",
        "                break\n",
        "        \n",
        "        # for i in population:\n",
        "        #     print(i)\n",
        "\n",
        "\n",
        "        if control1 and control2:\n",
        "        \n",
        "            offsprings.append(off1)\n",
        "            offsprings.append(off2)"
      ],
      "metadata": {
        "id": "SlV1bcTI9nqq"
      },
      "execution_count": 117,
      "outputs": []
    },
    {
      "cell_type": "code",
      "source": [
        "# Start\n",
        "population = []\n",
        "POPULATION_SIZE = 4\n",
        "MUTATION_RATE = 0.05\n",
        "\n",
        "population = generate_population()\n",
        "\n",
        "control = False\n",
        "solution = None\n",
        "\n",
        "gen = 0\n",
        "while gen < 100:\n",
        "    print(\"GEN: \" + str(gen))\n",
        "\n",
        "    index = 1\n",
        "    for i in population:\n",
        "        \n",
        "        #print(\"Individual \" + str(index) + \" with fitness score \" + str(i.fitness))\n",
        "        print(i)\n",
        "\n",
        "        if fitness_score(population)== 0:\n",
        "            control = True\n",
        "            solution = population\n",
        "        \n",
        "        index += 1\n",
        "    gen += 1\n",
        "\n",
        "    if control: break\n",
        "    elif control == False:\n",
        "        geneticAlgorithm()\n",
        "\n",
        "if control:\n",
        "    print(\"Soliton found\")\n",
        "    print(\"Generation: \" + str(gen))\n",
        "    for i in solution:\n",
        "      print(i)\n",
        "else:\n",
        "    print(\"Solituon not found\")"
      ],
      "metadata": {
        "id": "-qrSXmTaiSCE",
        "colab": {
          "base_uri": "https://localhost:8080/"
        },
        "outputId": "a64ac60f-0118-4c61-ab0a-747e8cb320a1"
      },
      "execution_count": 118,
      "outputs": [
        {
          "output_type": "stream",
          "name": "stdout",
          "text": [
            "GEN: 0\n",
            "Inf101 Volkan Gezer Fri 12.00 R1 1\n",
            "Inf103 Faruk Bagcı Tue 10.00 R1 1\n",
            "Inf107 Faruk Bagcı Mon 14.00 R1 1\n",
            "Inf201 Canan Yıldız Fri 08.00 R2 2\n",
            "Inf203 Emel Maden Tue 14.00 R3 2\n",
            "Inf205 Canan Yıldız Mon 16.00 R1 2\n",
            "Inf209 Faruk Bagcı Fri 12.00 R3 2\n",
            "Inf303 Omer Karacan Tue 16.00 R2 3\n",
            "Inf506 Emre Isık Mon 16.00 R3 3\n",
            "Inf701 Canan Yıldız Tue 10.00 R3 3\n",
            "ETE101 Sanam Moghaddamnia Thu 14.00 R1 3\n",
            "Inf523 Dilek Goksel Wed 14.00 R1 4\n",
            "Inf714 Emre Isık Mon 10.00 R3 4\n",
            "Inf905 Berkant Bostan Thu 12.00 R2 4\n",
            "INF517 Canan Yıldız Wed 10.00 R3 4\n",
            "Soliton found\n",
            "Generation: 1\n",
            "Inf101 Volkan Gezer Fri 12.00 R1 1\n",
            "Inf103 Faruk Bagcı Tue 10.00 R1 1\n",
            "Inf107 Faruk Bagcı Mon 14.00 R1 1\n",
            "Inf201 Canan Yıldız Fri 08.00 R2 2\n",
            "Inf203 Emel Maden Tue 14.00 R3 2\n",
            "Inf205 Canan Yıldız Mon 16.00 R1 2\n",
            "Inf209 Faruk Bagcı Fri 12.00 R3 2\n",
            "Inf303 Omer Karacan Tue 16.00 R2 3\n",
            "Inf506 Emre Isık Mon 16.00 R3 3\n",
            "Inf701 Canan Yıldız Tue 10.00 R3 3\n",
            "ETE101 Sanam Moghaddamnia Thu 14.00 R1 3\n",
            "Inf523 Dilek Goksel Wed 14.00 R1 4\n",
            "Inf714 Emre Isık Mon 10.00 R3 4\n",
            "Inf905 Berkant Bostan Thu 12.00 R2 4\n",
            "INF517 Canan Yıldız Wed 10.00 R3 4\n"
          ]
        }
      ]
    }
  ]
}